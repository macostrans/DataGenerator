{
 "cells": [
  {
   "cell_type": "code",
   "execution_count": 6,
   "id": "a046efab",
   "metadata": {},
   "outputs": [],
   "source": [
    "from faker import Faker"
   ]
  },
  {
   "cell_type": "code",
   "execution_count": 8,
   "id": "85161eb0",
   "metadata": {},
   "outputs": [],
   "source": [
    "fake = Faker()"
   ]
  },
  {
   "cell_type": "code",
   "execution_count": 9,
   "id": "d3068d20",
   "metadata": {},
   "outputs": [
    {
     "data": {
      "text/plain": [
       "'Sarah White'"
      ]
     },
     "execution_count": 9,
     "metadata": {},
     "output_type": "execute_result"
    }
   ],
   "source": [
    "fake.name()"
   ]
  },
  {
   "cell_type": "code",
   "execution_count": 10,
   "id": "1a3c7e7a",
   "metadata": {},
   "outputs": [],
   "source": [
    "from faker.providers import internet"
   ]
  },
  {
   "cell_type": "code",
   "execution_count": 14,
   "id": "41867dd5",
   "metadata": {},
   "outputs": [
    {
     "name": "stdout",
     "output_type": "stream",
     "text": [
      "192.168.165.204\n"
     ]
    }
   ],
   "source": [
    "print(fake.ipv4_private())"
   ]
  },
  {
   "cell_type": "code",
   "execution_count": 18,
   "id": "a5d0c1c6",
   "metadata": {},
   "outputs": [
    {
     "ename": "NameError",
     "evalue": "name 'company' is not defined",
     "output_type": "error",
     "traceback": [
      "\u001b[1;31m---------------------------------------------------------------------------\u001b[0m",
      "\u001b[1;31mNameError\u001b[0m                                 Traceback (most recent call last)",
      "\u001b[1;32m~\\AppData\\Local\\Temp/ipykernel_4132/3018251583.py\u001b[0m in \u001b[0;36m<module>\u001b[1;34m\u001b[0m\n\u001b[1;32m----> 1\u001b[1;33m \u001b[0mfake\u001b[0m\u001b[1;33m.\u001b[0m\u001b[0madd_provider\u001b[0m\u001b[1;33m(\u001b[0m\u001b[0mcompany\u001b[0m\u001b[1;33m)\u001b[0m\u001b[1;33m\u001b[0m\u001b[1;33m\u001b[0m\u001b[0m\n\u001b[0m",
      "\u001b[1;31mNameError\u001b[0m: name 'company' is not defined"
     ]
    }
   ],
   "source": [
    "fake.add_provider(company)"
   ]
  },
  {
   "cell_type": "code",
   "execution_count": 21,
   "id": "9ffd0d9f",
   "metadata": {},
   "outputs": [
    {
     "data": {
      "text/plain": [
       "('43.32393', '5.4584', 'Les Olives', 'FR', 'Europe/Paris')"
      ]
     },
     "execution_count": 21,
     "metadata": {},
     "output_type": "execute_result"
    }
   ],
   "source": [
    "fake.location_on_land()"
   ]
  },
  {
   "cell_type": "code",
   "execution_count": 26,
   "id": "38a71d2b",
   "metadata": {},
   "outputs": [],
   "source": [
    "result = []\n",
    "data_generator = Faker()\n",
    "for i in range(min(10,200)):\n",
    "    val = {}\n",
    "    val[\"name\"] = data_generator.name()\n",
    "    val[\"job\"] = data_generator.job()\n",
    "    val[\"location\"] = data_generator.location_on_land()\n",
    "    result.append(val)"
   ]
  },
  {
   "cell_type": "code",
   "execution_count": 27,
   "id": "36e5695e",
   "metadata": {},
   "outputs": [
    {
     "data": {
      "text/plain": [
       "[{'name': 'Jamie Hebert',\n",
       "  'job': 'Research scientist (physical sciences)',\n",
       "  'location': ('41.72063', '12.6723', 'Ariccia', 'IT', 'Europe/Rome')},\n",
       " {'name': 'Erica Williams',\n",
       "  'job': 'Surveyor, minerals',\n",
       "  'location': ('40.2737',\n",
       "   '-76.88442',\n",
       "   'Harrisburg',\n",
       "   'US',\n",
       "   'America/New_York')},\n",
       " {'name': 'Ashley Fuller',\n",
       "  'job': 'Land',\n",
       "  'location': ('58.7002', '59.4839', 'Kachkanar', 'RU', 'Asia/Yekaterinburg')},\n",
       " {'name': 'Mikayla Farrell',\n",
       "  'job': 'Local government officer',\n",
       "  'location': ('4.73245', '-74.26419', 'Madrid', 'CO', 'America/Bogota')},\n",
       " {'name': 'Taylor Johnson DDS',\n",
       "  'job': 'Historic buildings inspector/conservation officer',\n",
       "  'location': ('19.32932', '-98.1664', 'Contla', 'MX', 'America/Mexico_City')},\n",
       " {'name': 'Sarah Thompson',\n",
       "  'job': 'Hotel manager',\n",
       "  'location': ('26.9423', '68.11759', 'Tharu Shah', 'PK', 'Asia/Karachi')},\n",
       " {'name': 'Jesus James',\n",
       "  'job': 'Designer, blown glass/stained glass',\n",
       "  'location': ('15.45144', '78.14797', 'Betamcherla', 'IN', 'Asia/Kolkata')},\n",
       " {'name': 'Victoria Reilly',\n",
       "  'job': 'Production assistant, television',\n",
       "  'location': ('38.37255', '34.02537', 'Aksaray', 'TR', 'Europe/Istanbul')},\n",
       " {'name': 'Lisa Leach',\n",
       "  'job': 'Clinical research associate',\n",
       "  'location': ('8.48714', '-13.2356', 'Freetown', 'SL', 'Africa/Freetown')},\n",
       " {'name': 'Noah Young',\n",
       "  'job': 'Optician, dispensing',\n",
       "  'location': ('50.18545', '27.06365', 'Shepetivka', 'UA', 'Europe/Kiev')}]"
      ]
     },
     "execution_count": 27,
     "metadata": {},
     "output_type": "execute_result"
    }
   ],
   "source": [
    "result"
   ]
  },
  {
   "cell_type": "code",
   "execution_count": 28,
   "id": "01a749d6",
   "metadata": {},
   "outputs": [
    {
     "data": {
      "text/plain": [
       "{'values': [{'name': 'Jamie Hebert',\n",
       "   'job': 'Research scientist (physical sciences)',\n",
       "   'location': ('41.72063', '12.6723', 'Ariccia', 'IT', 'Europe/Rome')},\n",
       "  {'name': 'Erica Williams',\n",
       "   'job': 'Surveyor, minerals',\n",
       "   'location': ('40.2737',\n",
       "    '-76.88442',\n",
       "    'Harrisburg',\n",
       "    'US',\n",
       "    'America/New_York')},\n",
       "  {'name': 'Ashley Fuller',\n",
       "   'job': 'Land',\n",
       "   'location': ('58.7002',\n",
       "    '59.4839',\n",
       "    'Kachkanar',\n",
       "    'RU',\n",
       "    'Asia/Yekaterinburg')},\n",
       "  {'name': 'Mikayla Farrell',\n",
       "   'job': 'Local government officer',\n",
       "   'location': ('4.73245', '-74.26419', 'Madrid', 'CO', 'America/Bogota')},\n",
       "  {'name': 'Taylor Johnson DDS',\n",
       "   'job': 'Historic buildings inspector/conservation officer',\n",
       "   'location': ('19.32932',\n",
       "    '-98.1664',\n",
       "    'Contla',\n",
       "    'MX',\n",
       "    'America/Mexico_City')},\n",
       "  {'name': 'Sarah Thompson',\n",
       "   'job': 'Hotel manager',\n",
       "   'location': ('26.9423', '68.11759', 'Tharu Shah', 'PK', 'Asia/Karachi')},\n",
       "  {'name': 'Jesus James',\n",
       "   'job': 'Designer, blown glass/stained glass',\n",
       "   'location': ('15.45144', '78.14797', 'Betamcherla', 'IN', 'Asia/Kolkata')},\n",
       "  {'name': 'Victoria Reilly',\n",
       "   'job': 'Production assistant, television',\n",
       "   'location': ('38.37255', '34.02537', 'Aksaray', 'TR', 'Europe/Istanbul')},\n",
       "  {'name': 'Lisa Leach',\n",
       "   'job': 'Clinical research associate',\n",
       "   'location': ('8.48714', '-13.2356', 'Freetown', 'SL', 'Africa/Freetown')},\n",
       "  {'name': 'Noah Young',\n",
       "   'job': 'Optician, dispensing',\n",
       "   'location': ('50.18545', '27.06365', 'Shepetivka', 'UA', 'Europe/Kiev')}]}"
      ]
     },
     "execution_count": 28,
     "metadata": {},
     "output_type": "execute_result"
    }
   ],
   "source": [
    "{\"values\":result}"
   ]
  },
  {
   "cell_type": "code",
   "execution_count": null,
   "id": "c5165520",
   "metadata": {},
   "outputs": [],
   "source": []
  }
 ],
 "metadata": {
  "kernelspec": {
   "display_name": "Python 3 (ipykernel)",
   "language": "python",
   "name": "python3"
  },
  "language_info": {
   "codemirror_mode": {
    "name": "ipython",
    "version": 3
   },
   "file_extension": ".py",
   "mimetype": "text/x-python",
   "name": "python",
   "nbconvert_exporter": "python",
   "pygments_lexer": "ipython3",
   "version": "3.9.7"
  }
 },
 "nbformat": 4,
 "nbformat_minor": 5
}
